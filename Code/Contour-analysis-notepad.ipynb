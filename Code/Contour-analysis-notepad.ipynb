{
 "cells": [
  {
   "cell_type": "code",
   "execution_count": 8,
   "metadata": {},
   "outputs": [],
   "source": [
    "# Packages\n",
    "import seaborn as sns\n",
    "import pandas as pd\n",
    "import numpy as np\n",
    "import matplotlib\n",
    "from mayavi.mlab import plot3d\n",
    "import matplotlib.pyplot as plt\n",
    "from IPython.display import set_matplotlib_formats\n",
    "set_matplotlib_formats('pdf')\n",
    "from lifelines import KaplanMeierFitter, NelsonAalenFitter\n",
    "from plot_functions import create_polar_axis\n",
    "axes = create_polar_axis()"
   ]
  },
  {
   "cell_type": "code",
   "execution_count": 2,
   "metadata": {},
   "outputs": [],
   "source": [
    "# Read in main patient database\n",
    "clean_patients_data = pd.read_csv('/Users/Tom/PycharmProjects/Contour-Analysis/Data/Deep_learning_results/per_vox_cox.csv')"
   ]
  },
  {
   "cell_type": "code",
   "execution_count": 3,
   "metadata": {},
   "outputs": [
    {
     "name": "stdout",
     "output_type": "stream",
     "text": [
      "/Users/Tom/PycharmProjects/Contour-Analysis/Code\n"
     ]
    }
   ],
   "source": [
    "cd /Users/Tom/PycharmProjects/Contour-Analysis/Code"
   ]
  },
  {
   "cell_type": "code",
   "execution_count": 4,
   "metadata": {},
   "outputs": [
    {
     "data": {
      "text/html": [
       "<div>\n",
       "<style scoped>\n",
       "    .dataframe tbody tr th:only-of-type {\n",
       "        vertical-align: middle;\n",
       "    }\n",
       "\n",
       "    .dataframe tbody tr th {\n",
       "        vertical-align: top;\n",
       "    }\n",
       "\n",
       "    .dataframe thead th {\n",
       "        text-align: right;\n",
       "    }\n",
       "</style>\n",
       "<table border=\"1\" class=\"dataframe\">\n",
       "  <thead>\n",
       "    <tr style=\"text-align: right;\">\n",
       "      <th></th>\n",
       "      <th>timeToEvent</th>\n",
       "      <th>recurrence</th>\n",
       "      <th>fractions</th>\n",
       "      <th>stage</th>\n",
       "      <th>grade</th>\n",
       "      <th>risk</th>\n",
       "      <th>volumeContour</th>\n",
       "      <th>volumeContourAuto</th>\n",
       "      <th>volumeContourDifference</th>\n",
       "      <th>DSC</th>\n",
       "      <th>volumeRatio</th>\n",
       "      <th>mean</th>\n",
       "      <th>sd</th>\n",
       "      <th>patientList</th>\n",
       "    </tr>\n",
       "  </thead>\n",
       "  <tbody>\n",
       "    <tr>\n",
       "      <th>0</th>\n",
       "      <td>0.849315</td>\n",
       "      <td>1</td>\n",
       "      <td>19</td>\n",
       "      <td>T3</td>\n",
       "      <td>9</td>\n",
       "      <td>High</td>\n",
       "      <td>60.257812</td>\n",
       "      <td>18.373535</td>\n",
       "      <td>41.884277</td>\n",
       "      <td>0.414799</td>\n",
       "      <td>3.279598</td>\n",
       "      <td>0.732699</td>\n",
       "      <td>0.724895</td>\n",
       "      <td>200900710</td>\n",
       "    </tr>\n",
       "    <tr>\n",
       "      <th>1</th>\n",
       "      <td>0.983562</td>\n",
       "      <td>1</td>\n",
       "      <td>19</td>\n",
       "      <td>T2</td>\n",
       "      <td>7</td>\n",
       "      <td>High</td>\n",
       "      <td>38.241211</td>\n",
       "      <td>26.099121</td>\n",
       "      <td>12.142090</td>\n",
       "      <td>0.788471</td>\n",
       "      <td>1.465230</td>\n",
       "      <td>0.154375</td>\n",
       "      <td>0.196008</td>\n",
       "      <td>200911474</td>\n",
       "    </tr>\n",
       "    <tr>\n",
       "      <th>2</th>\n",
       "      <td>0.994521</td>\n",
       "      <td>1</td>\n",
       "      <td>19</td>\n",
       "      <td>T1C</td>\n",
       "      <td>9</td>\n",
       "      <td>High</td>\n",
       "      <td>37.221680</td>\n",
       "      <td>23.106445</td>\n",
       "      <td>14.115234</td>\n",
       "      <td>0.723485</td>\n",
       "      <td>1.610879</td>\n",
       "      <td>0.276781</td>\n",
       "      <td>0.363447</td>\n",
       "      <td>200805314</td>\n",
       "    </tr>\n",
       "    <tr>\n",
       "      <th>3</th>\n",
       "      <td>1.095890</td>\n",
       "      <td>1</td>\n",
       "      <td>19</td>\n",
       "      <td>T3A</td>\n",
       "      <td>7</td>\n",
       "      <td>High</td>\n",
       "      <td>39.568359</td>\n",
       "      <td>27.905273</td>\n",
       "      <td>11.663086</td>\n",
       "      <td>0.739351</td>\n",
       "      <td>1.417953</td>\n",
       "      <td>0.118300</td>\n",
       "      <td>0.320738</td>\n",
       "      <td>200806929</td>\n",
       "    </tr>\n",
       "    <tr>\n",
       "      <th>4</th>\n",
       "      <td>1.238356</td>\n",
       "      <td>1</td>\n",
       "      <td>19</td>\n",
       "      <td>T3</td>\n",
       "      <td>9</td>\n",
       "      <td>High</td>\n",
       "      <td>36.149117</td>\n",
       "      <td>23.459923</td>\n",
       "      <td>12.689194</td>\n",
       "      <td>0.771516</td>\n",
       "      <td>1.540888</td>\n",
       "      <td>0.325353</td>\n",
       "      <td>0.204268</td>\n",
       "      <td>201002873</td>\n",
       "    </tr>\n",
       "    <tr>\n",
       "      <th>5</th>\n",
       "      <td>1.271233</td>\n",
       "      <td>1</td>\n",
       "      <td>19</td>\n",
       "      <td>T3</td>\n",
       "      <td>9</td>\n",
       "      <td>High</td>\n",
       "      <td>45.333984</td>\n",
       "      <td>39.238770</td>\n",
       "      <td>6.095215</td>\n",
       "      <td>0.888023</td>\n",
       "      <td>1.155337</td>\n",
       "      <td>0.127031</td>\n",
       "      <td>0.153324</td>\n",
       "      <td>200903652</td>\n",
       "    </tr>\n",
       "    <tr>\n",
       "      <th>6</th>\n",
       "      <td>1.397260</td>\n",
       "      <td>1</td>\n",
       "      <td>19</td>\n",
       "      <td>T3B</td>\n",
       "      <td>7</td>\n",
       "      <td>High</td>\n",
       "      <td>52.510254</td>\n",
       "      <td>37.951172</td>\n",
       "      <td>14.559082</td>\n",
       "      <td>0.774447</td>\n",
       "      <td>1.383627</td>\n",
       "      <td>0.181181</td>\n",
       "      <td>0.342483</td>\n",
       "      <td>200909554</td>\n",
       "    </tr>\n",
       "    <tr>\n",
       "      <th>7</th>\n",
       "      <td>1.419178</td>\n",
       "      <td>1</td>\n",
       "      <td>19</td>\n",
       "      <td>T3a</td>\n",
       "      <td>7</td>\n",
       "      <td>High</td>\n",
       "      <td>38.779713</td>\n",
       "      <td>35.995556</td>\n",
       "      <td>2.784157</td>\n",
       "      <td>0.906252</td>\n",
       "      <td>1.077347</td>\n",
       "      <td>0.112131</td>\n",
       "      <td>0.187214</td>\n",
       "      <td>201005411</td>\n",
       "    </tr>\n",
       "    <tr>\n",
       "      <th>8</th>\n",
       "      <td>1.438356</td>\n",
       "      <td>1</td>\n",
       "      <td>19</td>\n",
       "      <td>T3b</td>\n",
       "      <td>7</td>\n",
       "      <td>High</td>\n",
       "      <td>29.828659</td>\n",
       "      <td>20.057688</td>\n",
       "      <td>9.770971</td>\n",
       "      <td>0.750989</td>\n",
       "      <td>1.487143</td>\n",
       "      <td>0.219948</td>\n",
       "      <td>0.275781</td>\n",
       "      <td>201202325</td>\n",
       "    </tr>\n",
       "    <tr>\n",
       "      <th>9</th>\n",
       "      <td>1.457534</td>\n",
       "      <td>1</td>\n",
       "      <td>19</td>\n",
       "      <td>T3</td>\n",
       "      <td>7</td>\n",
       "      <td>High</td>\n",
       "      <td>33.785156</td>\n",
       "      <td>32.822754</td>\n",
       "      <td>0.962402</td>\n",
       "      <td>0.873392</td>\n",
       "      <td>1.029321</td>\n",
       "      <td>0.006125</td>\n",
       "      <td>0.246160</td>\n",
       "      <td>200609629</td>\n",
       "    </tr>\n",
       "  </tbody>\n",
       "</table>\n",
       "</div>"
      ],
      "text/plain": [
       "   timeToEvent  recurrence  fractions stage  grade  risk  volumeContour  \\\n",
       "0     0.849315           1         19    T3      9  High      60.257812   \n",
       "1     0.983562           1         19    T2      7  High      38.241211   \n",
       "2     0.994521           1         19   T1C      9  High      37.221680   \n",
       "3     1.095890           1         19   T3A      7  High      39.568359   \n",
       "4     1.238356           1         19    T3      9  High      36.149117   \n",
       "5     1.271233           1         19    T3      9  High      45.333984   \n",
       "6     1.397260           1         19   T3B      7  High      52.510254   \n",
       "7     1.419178           1         19   T3a      7  High      38.779713   \n",
       "8     1.438356           1         19   T3b      7  High      29.828659   \n",
       "9     1.457534           1         19    T3      7  High      33.785156   \n",
       "\n",
       "   volumeContourAuto  volumeContourDifference       DSC  volumeRatio  \\\n",
       "0          18.373535                41.884277  0.414799     3.279598   \n",
       "1          26.099121                12.142090  0.788471     1.465230   \n",
       "2          23.106445                14.115234  0.723485     1.610879   \n",
       "3          27.905273                11.663086  0.739351     1.417953   \n",
       "4          23.459923                12.689194  0.771516     1.540888   \n",
       "5          39.238770                 6.095215  0.888023     1.155337   \n",
       "6          37.951172                14.559082  0.774447     1.383627   \n",
       "7          35.995556                 2.784157  0.906252     1.077347   \n",
       "8          20.057688                 9.770971  0.750989     1.487143   \n",
       "9          32.822754                 0.962402  0.873392     1.029321   \n",
       "\n",
       "       mean        sd  patientList  \n",
       "0  0.732699  0.724895    200900710  \n",
       "1  0.154375  0.196008    200911474  \n",
       "2  0.276781  0.363447    200805314  \n",
       "3  0.118300  0.320738    200806929  \n",
       "4  0.325353  0.204268    201002873  \n",
       "5  0.127031  0.153324    200903652  \n",
       "6  0.181181  0.342483    200909554  \n",
       "7  0.112131  0.187214    201005411  \n",
       "8  0.219948  0.275781    201202325  \n",
       "9  0.006125  0.246160    200609629  "
      ]
     },
     "execution_count": 4,
     "metadata": {},
     "output_type": "execute_result"
    }
   ],
   "source": [
    "clean_patients_data.head(n=10)"
   ]
  },
  {
   "cell_type": "code",
   "execution_count": 5,
   "metadata": {},
   "outputs": [],
   "source": [
    "# Add Covariates\n",
    "psa_data = pd.read_csv('/Users/Tom/PycharmProjects/Contour-Analysis/Data/Deep_learning_results/psa_patients.csv')\n",
    "age_data = pd.read_csv('/Users/Tom/PycharmProjects/Contour-Analysis/Data/Deep_learning_results/patientAges.csv')"
   ]
  },
  {
   "cell_type": "code",
   "execution_count": 6,
   "metadata": {},
   "outputs": [],
   "source": [
    "# Merge covariates using patient ID\n",
    "merged_patient_data = pd.merge(clean_patients_data, psa_data, how='inner', on='patientList')"
   ]
  },
  {
   "cell_type": "code",
   "execution_count": 9,
   "metadata": {
    "scrolled": true
   },
   "outputs": [
    {
     "data": {
      "text/html": [
       "<div>\n",
       "<style scoped>\n",
       "    .dataframe tbody tr th:only-of-type {\n",
       "        vertical-align: middle;\n",
       "    }\n",
       "\n",
       "    .dataframe tbody tr th {\n",
       "        vertical-align: top;\n",
       "    }\n",
       "\n",
       "    .dataframe thead th {\n",
       "        text-align: right;\n",
       "    }\n",
       "</style>\n",
       "<table border=\"1\" class=\"dataframe\">\n",
       "  <thead>\n",
       "    <tr style=\"text-align: right;\">\n",
       "      <th></th>\n",
       "      <th>timeToEvent</th>\n",
       "      <th>recurrence</th>\n",
       "      <th>fractions</th>\n",
       "      <th>stage</th>\n",
       "      <th>grade</th>\n",
       "      <th>risk</th>\n",
       "      <th>volumeContour</th>\n",
       "      <th>volumeContourAuto</th>\n",
       "      <th>volumeContourDifference</th>\n",
       "      <th>DSC</th>\n",
       "      <th>volumeRatio</th>\n",
       "      <th>mean</th>\n",
       "      <th>sd</th>\n",
       "      <th>patientList</th>\n",
       "      <th>psa</th>\n",
       "      <th>age_x</th>\n",
       "      <th>age_y</th>\n",
       "    </tr>\n",
       "  </thead>\n",
       "  <tbody>\n",
       "    <tr>\n",
       "      <th>0</th>\n",
       "      <td>0.849315</td>\n",
       "      <td>1</td>\n",
       "      <td>19</td>\n",
       "      <td>T3</td>\n",
       "      <td>9</td>\n",
       "      <td>High</td>\n",
       "      <td>60.257812</td>\n",
       "      <td>18.373535</td>\n",
       "      <td>41.884277</td>\n",
       "      <td>0.414799</td>\n",
       "      <td>3.279598</td>\n",
       "      <td>0.732699</td>\n",
       "      <td>0.724895</td>\n",
       "      <td>200900710</td>\n",
       "      <td>33.6</td>\n",
       "      <td>60</td>\n",
       "      <td>60</td>\n",
       "    </tr>\n",
       "  </tbody>\n",
       "</table>\n",
       "</div>"
      ],
      "text/plain": [
       "   timeToEvent  recurrence  fractions stage  grade  risk  volumeContour  \\\n",
       "0     0.849315           1         19    T3      9  High      60.257812   \n",
       "\n",
       "   volumeContourAuto  volumeContourDifference       DSC  volumeRatio  \\\n",
       "0          18.373535                41.884277  0.414799     3.279598   \n",
       "\n",
       "       mean        sd  patientList   psa  age_x  age_y  \n",
       "0  0.732699  0.724895    200900710  33.6     60     60  "
      ]
     },
     "execution_count": 9,
     "metadata": {},
     "output_type": "execute_result"
    }
   ],
   "source": [
    "merged_patient_data = pd.merge(merged_patient_data, age_data, how='inner', on='patientList')\n",
    "merged_patient_data.head(n=1)"
   ]
  },
  {
   "cell_type": "code",
   "execution_count": 10,
   "metadata": {},
   "outputs": [],
   "source": [
    "# rename risk to High, Intermediate, Low\n",
    "merged_patient_data['risk'] = merged_patient_data['risk'].apply(lambda x: 'Low' if x == 'Low' else ('High' if x == 'High' else 'Intermediate'))"
   ]
  },
  {
   "cell_type": "code",
   "execution_count": 41,
   "metadata": {},
   "outputs": [
    {
     "data": {
      "text/plain": [
       "<Figure size 1440x360 with 3 Axes>"
      ]
     },
     "metadata": {
      "needs_background": "light"
     },
     "output_type": "display_data"
    }
   ],
   "source": [
    "f, (ax1, ax2, ax3) = plt.subplots(1, 3, figsize=(20,5))\n",
    "\n",
    "T = merged_patient_data[\"timeToEvent\"]\n",
    "E = merged_patient_data[\"recurrence\"]\n",
    "\n",
    "kmf = KaplanMeierFitter()\n",
    "kmf.fit(T, event_observed=E)\n",
    "ax1 = kmf.survival_function_.plot(ax=ax1)\n",
    "ax2 = kmf.plot(ax=ax2)\n",
    "naf = NelsonAalenFitter()\n",
    "naf.fit(T,event_observed=E)\n",
    "ax3 = naf.plot(ax=ax3)"
   ]
  },
  {
   "cell_type": "code",
   "execution_count": 42,
   "metadata": {
    "scrolled": true
   },
   "outputs": [
    {
     "ename": "SyntaxError",
     "evalue": "invalid character in identifier (LocalCombined.py, line 228)",
     "traceback": [
      "Traceback \u001b[0;36m(most recent call last)\u001b[0m:\n",
      "  File \u001b[1;32m\"/Users/Tom/anaconda3/lib/python3.7/site-packages/IPython/core/interactiveshell.py\"\u001b[0m, line \u001b[1;32m2961\u001b[0m, in \u001b[1;35mrun_code\u001b[0m\n    exec(code_obj, self.user_global_ns, self.user_ns)\n",
      "\u001b[0;36m  File \u001b[0;32m\"<ipython-input-42-4d9e7d0d5898>\"\u001b[0;36m, line \u001b[0;32m2\u001b[0;36m, in \u001b[0;35m<module>\u001b[0;36m\u001b[0m\n\u001b[0;31m    from LocalCombined import survival_analysis_fractions, survival_analysis_dsc\u001b[0m\n",
      "\u001b[0;36m  File \u001b[0;32m\"/Users/Tom/PycharmProjects/Contour-Analysis/Code/LocalCombined.py\"\u001b[0;36m, line \u001b[0;32m228\u001b[0m\n\u001b[0;31m    kmf.fit(T[ix_19], E[ix_19], label=’First Quartile’)\u001b[0m\n\u001b[0m                                           ^\u001b[0m\n\u001b[0;31mSyntaxError\u001b[0m\u001b[0;31m:\u001b[0m invalid character in identifier\n"
     ],
     "output_type": "error"
    }
   ],
   "source": [
    "# Survival functions\n",
    "from LocalCombined import survival_analysis_fractions, survival_analysis_dsc"
   ]
  },
  {
   "cell_type": "code",
   "execution_count": 19,
   "metadata": {},
   "outputs": [
    {
     "ename": "NameError",
     "evalue": "name 'survival_analysis_fractions' is not defined",
     "traceback": [
      "\u001b[0;31m---------------------------------------------------------------------------\u001b[0m",
      "\u001b[0;31mNameError\u001b[0m                                 Traceback (most recent call last)",
      "\u001b[0;32m<ipython-input-19-b307508404f0>\u001b[0m in \u001b[0;36m<module>\u001b[0;34m()\u001b[0m\n\u001b[0;32m----> 1\u001b[0;31m \u001b[0msurvival_analysis_fractions\u001b[0m\u001b[0;34m(\u001b[0m\u001b[0mmerged_patient_data\u001b[0m\u001b[0;34m)\u001b[0m\u001b[0;34m\u001b[0m\u001b[0;34m\u001b[0m\u001b[0m\n\u001b[0m",
      "\u001b[0;31mNameError\u001b[0m: name 'survival_analysis_fractions' is not defined"
     ],
     "output_type": "error"
    }
   ],
   "source": [
    "survival_analysis_fractions(merged_patient_data)"
   ]
  },
  {
   "cell_type": "code",
   "execution_count": null,
   "metadata": {},
   "outputs": [],
   "source": [
    "survival_analysis_dsc(merged_patient_data,'DSC')"
   ]
  },
  {
   "cell_type": "code",
   "execution_count": 20,
   "metadata": {},
   "outputs": [
    {
     "ename": "NameError",
     "evalue": "name 'survival_analysis_dsc' is not defined",
     "traceback": [
      "\u001b[0;31m---------------------------------------------------------------------------\u001b[0m",
      "\u001b[0;31mNameError\u001b[0m                                 Traceback (most recent call last)",
      "\u001b[0;32m<ipython-input-20-42a1453e82f4>\u001b[0m in \u001b[0;36m<module>\u001b[0;34m()\u001b[0m\n\u001b[0;32m----> 1\u001b[0;31m \u001b[0msurvival_analysis_dsc\u001b[0m\u001b[0;34m(\u001b[0m\u001b[0mmerged_patient_data\u001b[0m\u001b[0;34m,\u001b[0m\u001b[0;34m'volumeContourDifference'\u001b[0m\u001b[0;34m)\u001b[0m\u001b[0;34m\u001b[0m\u001b[0;34m\u001b[0m\u001b[0m\n\u001b[0m",
      "\u001b[0;31mNameError\u001b[0m: name 'survival_analysis_dsc' is not defined"
     ],
     "output_type": "error"
    }
   ],
   "source": [
    "survival_analysis_dsc(merged_patient_data,'volumeContourDifference')"
   ]
  },
  {
   "cell_type": "code",
   "execution_count": 21,
   "metadata": {},
   "outputs": [
    {
     "data": {
      "text/plain": [
       "<matplotlib.collections.PathCollection at 0x1a39c58278>"
      ]
     },
     "execution_count": 21,
     "metadata": {},
     "output_type": "execute_result"
    },
    {
     "data": {
      "text/plain": [
       "<Figure size 432x288 with 1 Axes>"
      ]
     },
     "metadata": {
      "needs_background": "light"
     },
     "output_type": "display_data"
    }
   ],
   "source": [
    "plt.scatter(merged_patient_data['risk'],merged_patient_data['psa'])"
   ]
  },
  {
   "cell_type": "code",
   "execution_count": 22,
   "metadata": {},
   "outputs": [
    {
     "data": {
      "text/plain": [
       "<matplotlib.collections.PathCollection at 0x1a39cb9208>"
      ]
     },
     "execution_count": 22,
     "metadata": {},
     "output_type": "execute_result"
    },
    {
     "data": {
      "text/plain": [
       "<Figure size 432x288 with 1 Axes>"
      ]
     },
     "metadata": {
      "needs_background": "light"
     },
     "output_type": "display_data"
    }
   ],
   "source": [
    "plt.scatter(merged_patient_data['risk'],merged_patient_data['volumeContour'])"
   ]
  },
  {
   "cell_type": "code",
   "execution_count": 43,
   "metadata": {},
   "outputs": [
    {
     "data": {
      "text/plain": [
       "<Figure size 1137.3x1080 with 36 Axes>"
      ]
     },
     "metadata": {
      "needs_background": "light"
     },
     "output_type": "display_data"
    }
   ],
   "source": [
    "g = sns.PairGrid(merged_patient_data, vars=['risk', 'grade', 'psa', 'volumeContour', 'volumeRatio', 'volumeContourDifference'],\n",
    "                     hue='recurrence', palette='dark')\n",
    "g.map(plt.scatter, alpha=0.8)\n",
    "g.add_legend();\n",
    "\n",
    "plt.show(block=True)"
   ]
  },
  {
   "cell_type": "code",
   "execution_count": 44,
   "metadata": {},
   "outputs": [
    {
     "data": {
      "text/plain": [
       "<Figure size 432x288 with 1 Axes>"
      ]
     },
     "metadata": {
      "needs_background": "light"
     },
     "output_type": "display_data"
    },
    {
     "data": {
      "text/plain": [
       "<Figure size 432x288 with 1 Axes>"
      ]
     },
     "metadata": {
      "needs_background": "light"
     },
     "output_type": "display_data"
    }
   ],
   "source": [
    "rec = (merged_patient_data.recurrence == 'Rec')\n",
    "no_rec = (merged_patient_data.recurrence == 'No Rec')\n",
    "\n",
    "with sns.axes_style(style=None):\n",
    "    sns.violinplot(\"risk\", \"volumeContourDifference\", hue=\"recurrence\", data=merged_patient_data,\n",
    "                   split=True, inner=\"quartile\",\n",
    "                   palette=[\"lightblue\", \"lightpink\"]);\n",
    "plt.savefig(\"/Users/Tom/Desktop/Mphy_Report/Figures/violinplt_voldiff.pdf\", bbox_inches=\"tight\")\n",
    "plt.show()\n",
    "with sns.axes_style(style=None):\n",
    "    sns.violinplot(\"risk\", \"DSC\", hue=\"recurrence\", data=merged_patient_data,\n",
    "               split=True, inner=\"quartile\",\n",
    "               palette=[\"lightblue\", \"lightpink\"]);\n",
    "plt.savefig(\"/Users/Tom/Desktop/Mphy_Report/Figures/violinplt_dsc.pdf\", bbox_inches=\"tight\")\n",
    "plt.show()\n"
   ]
  },
  {
   "cell_type": "code",
   "execution_count": 45,
   "metadata": {},
   "outputs": [
    {
     "data": {
      "text/plain": [
       "<Figure size 432x288 with 1 Axes>"
      ]
     },
     "metadata": {
      "needs_background": "light"
     },
     "output_type": "display_data"
    },
    {
     "data": {
      "text/plain": [
       "<Figure size 432x288 with 1 Axes>"
      ]
     },
     "metadata": {
      "needs_background": "light"
     },
     "output_type": "display_data"
    }
   ],
   "source": [
    "with sns.axes_style(style=None):\n",
    "    sns.violinplot(\"risk\", \"sd\", hue=\"recurrence\", data=merged_patient_data,\n",
    "               split=True, inner=\"quartile\",\n",
    "               palette=[\"lightblue\", \"lightpink\"]);\n",
    "plt.savefig(\"/Users/Tom/Desktop/Mphy_Report/Figures/violinplt_sd.pdf\", bbox_inches=\"tight\")\n",
    "plt.show()\n",
    "\n",
    "with sns.axes_style(style=None):\n",
    "    sns.violinplot(\"risk\", \"mean\", hue=\"recurrence\", data=merged_patient_data,\n",
    "               split=True, inner=\"quartile\",\n",
    "               palette=[\"lightblue\", \"lightpink\"]);\n",
    "plt.show()"
   ]
  },
  {
   "cell_type": "code",
   "execution_count": 26,
   "metadata": {},
   "outputs": [
    {
     "name": "stdout",
     "output_type": "stream",
     "text": [
      "#rec: 89, #n_rec: 436\n",
      "Vdiff: p_value(rec=/=n_rec): 0.859600 p_value(rec<n_rec): 0.435200 p_value(rec>n_rec): 0.564800\n",
      "DSC: p_value(rec=/=n_rec): 0.355800 p_value(rec<n_rec): 0.175700 p_value(rec>n_rec): 0.824300\n",
      "VRatio: p_value(rec=/=n_rec): 0.889300 p_value(rec<n_rec): 0.562800 p_value(rec>n_rec): 0.437200\n"
     ]
    }
   ],
   "source": [
    "# Import test functions\n",
    "from significance_test import global_statistical_analysis\n",
    "\n",
    "global_statistical_analysis(merged_patient_data)"
   ]
  },
  {
   "cell_type": "code",
   "execution_count": 27,
   "metadata": {},
   "outputs": [
    {
     "name": "stdout",
     "output_type": "stream",
     "text": [
      "#rec: 65, #n_rec: 209\n",
      "Vdiff: p_value(rec=/=n_rec): 0.975900 p_value(rec<n_rec): 0.525400 p_value(rec>n_rec): 0.474600\n",
      "DSC: p_value(rec=/=n_rec): 0.490800 p_value(rec<n_rec): 0.748600 p_value(rec>n_rec): 0.251400\n",
      "VRatio: p_value(rec=/=n_rec): 0.393200 p_value(rec<n_rec): 0.202900 p_value(rec>n_rec): 0.797100\n",
      "#rec: 24, #n_rec: 178\n",
      "Vdiff: p_value(rec=/=n_rec): 0.308000 p_value(rec<n_rec): 0.846600 p_value(rec>n_rec): 0.153400\n",
      "DSC: p_value(rec=/=n_rec): 0.026200 p_value(rec<n_rec): 0.016300 p_value(rec>n_rec): 0.983700\n",
      "VRatio: p_value(rec=/=n_rec): 0.110900 p_value(rec<n_rec): 0.936500 p_value(rec>n_rec): 0.063500\n"
     ]
    }
   ],
   "source": [
    "# Analysing global variables by risk\n",
    "high_risk_patients = merged_patient_data.groupby(\"risk\").get_group(\"High\")\n",
    "global_statistical_analysis(high_risk_patients)\n",
    "int_risk_patients = merged_patient_data.groupby(\"risk\").get_group(\"Intermediate\")\n",
    "global_statistical_analysis(int_risk_patients)"
   ]
  },
  {
   "cell_type": "markdown",
   "metadata": {},
   "source": [
    "Hello"
   ]
  },
  {
   "cell_type": "code",
   "execution_count": 28,
   "metadata": {},
   "outputs": [
    {
     "name": "stderr",
     "output_type": "stream",
     "text": [
      "100%|██████████| 1000/1000 [02:41<00:00,  5.98it/s]\n"
     ]
    }
   ],
   "source": [
    "from significance_test import pymining_t_test, test_superimpose\n",
    "global_neg_pvalue, global_pos_pvalue, neg_tthresh, pos_tthresh, t_value_map = pymining_t_test(merged_patient_data)"
   ]
  },
  {
   "cell_type": "code",
   "execution_count": 32,
   "metadata": {},
   "outputs": [
    {
     "ename": "SyntaxError",
     "evalue": "invalid character in identifier (LocalCombined.py, line 228)",
     "traceback": [
      "Traceback \u001b[0;36m(most recent call last)\u001b[0m:\n",
      "  File \u001b[1;32m\"/Users/Tom/anaconda3/lib/python3.7/site-packages/IPython/core/interactiveshell.py\"\u001b[0m, line \u001b[1;32m2961\u001b[0m, in \u001b[1;35mrun_code\u001b[0m\n    exec(code_obj, self.user_global_ns, self.user_ns)\n",
      "\u001b[0;36m  File \u001b[0;32m\"<ipython-input-32-a7a0d2840cd3>\"\u001b[0;36m, line \u001b[0;32m2\u001b[0;36m, in \u001b[0;35m<module>\u001b[0;36m\u001b[0m\n\u001b[0;31m    from LocalCombined import make_average_field\u001b[0m\n",
      "\u001b[0;36m  File \u001b[0;32m\"/Users/Tom/PycharmProjects/Contour-Analysis/Code/LocalCombined.py\"\u001b[0;36m, line \u001b[0;32m228\u001b[0m\n\u001b[0;31m    kmf.fit(T[ix_19], E[ix_19], label=’First Quartile’)\u001b[0m\n\u001b[0m                                           ^\u001b[0m\n\u001b[0;31mSyntaxError\u001b[0m\u001b[0;31m:\u001b[0m invalid character in identifier\n"
     ],
     "output_type": "error"
    }
   ],
   "source": [
    "from AllPatients import separate_by_recurrence\n",
    "from LocalCombined import make_average_field\n",
    "\n",
    "rec_patients, non_rec_patients = separate_by_recurrence(merged_patient_data)\n",
    "mean_map1, var_map1, sd_map1 = make_average_field(rec_patients, '/Users/Tom/PycharmProjects/Contour-Analysis/Data/Deep_learning_results/deltaRMaps')\n",
    "mean_map2, var_map2, sd_map2 = make_average_field(non_rec_patients, '/Users/Tom/PycharmProjects/Contour-Analysis/Data/Deep_learning_results/deltaRMaps')"
   ]
  },
  {
   "cell_type": "code",
   "execution_count": 31,
   "metadata": {},
   "outputs": [
    {
     "ename": "NameError",
     "evalue": "name 'mean_map1' is not defined",
     "traceback": [
      "\u001b[0;31m---------------------------------------------------------------------------\u001b[0m",
      "\u001b[0;31mNameError\u001b[0m                                 Traceback (most recent call last)",
      "\u001b[0;32m<ipython-input-31-29e829c0c1da>\u001b[0m in \u001b[0;36m<module>\u001b[0;34m()\u001b[0m\n\u001b[1;32m      1\u001b[0m \u001b[0mf\u001b[0m\u001b[0;34m,\u001b[0m \u001b[0;34m(\u001b[0m\u001b[0;34m(\u001b[0m\u001b[0max1\u001b[0m\u001b[0;34m,\u001b[0m \u001b[0max2\u001b[0m\u001b[0;34m)\u001b[0m\u001b[0;34m,\u001b[0m \u001b[0;34m(\u001b[0m\u001b[0max3\u001b[0m\u001b[0;34m,\u001b[0m \u001b[0max4\u001b[0m\u001b[0;34m)\u001b[0m\u001b[0;34m,\u001b[0m \u001b[0;34m(\u001b[0m\u001b[0max5\u001b[0m\u001b[0;34m,\u001b[0m \u001b[0max6\u001b[0m\u001b[0;34m)\u001b[0m\u001b[0;34m)\u001b[0m \u001b[0;34m=\u001b[0m \u001b[0mplt\u001b[0m\u001b[0;34m.\u001b[0m\u001b[0msubplots\u001b[0m\u001b[0;34m(\u001b[0m\u001b[0;36m3\u001b[0m\u001b[0;34m,\u001b[0m \u001b[0;36m2\u001b[0m\u001b[0;34m,\u001b[0m \u001b[0mfigsize\u001b[0m\u001b[0;34m=\u001b[0m\u001b[0;34m(\u001b[0m\u001b[0;36m9\u001b[0m\u001b[0;34m,\u001b[0m\u001b[0;36m9\u001b[0m\u001b[0;34m)\u001b[0m\u001b[0;34m,\u001b[0m \u001b[0msharex\u001b[0m\u001b[0;34m=\u001b[0m\u001b[0;34m'col'\u001b[0m\u001b[0;34m,\u001b[0m \u001b[0msharey\u001b[0m\u001b[0;34m=\u001b[0m\u001b[0;34m'row'\u001b[0m\u001b[0;34m)\u001b[0m\u001b[0;34m\u001b[0m\u001b[0;34m\u001b[0m\u001b[0m\n\u001b[0;32m----> 2\u001b[0;31m \u001b[0mheat_map\u001b[0m \u001b[0;34m=\u001b[0m \u001b[0msns\u001b[0m\u001b[0;34m.\u001b[0m\u001b[0mheatmap\u001b[0m\u001b[0;34m(\u001b[0m\u001b[0mmean_map1\u001b[0m\u001b[0;34m.\u001b[0m\u001b[0mvalues\u001b[0m\u001b[0;34m,\u001b[0m \u001b[0mcenter\u001b[0m\u001b[0;34m=\u001b[0m\u001b[0;36m0\u001b[0m\u001b[0;34m,\u001b[0m \u001b[0mxticklabels\u001b[0m\u001b[0;34m=\u001b[0m\u001b[0maxes\u001b[0m\u001b[0;34m[\u001b[0m\u001b[0;36m0\u001b[0m\u001b[0;34m]\u001b[0m\u001b[0;34m,\u001b[0m \u001b[0myticklabels\u001b[0m\u001b[0;34m=\u001b[0m\u001b[0maxes\u001b[0m\u001b[0;34m[\u001b[0m\u001b[0;36m1\u001b[0m\u001b[0;34m]\u001b[0m\u001b[0;34m,\u001b[0m \u001b[0mcmap\u001b[0m\u001b[0;34m=\u001b[0m\u001b[0;34m'RdBu'\u001b[0m\u001b[0;34m,\u001b[0m \u001b[0max\u001b[0m\u001b[0;34m=\u001b[0m\u001b[0max1\u001b[0m\u001b[0;34m)\u001b[0m\u001b[0;34m\u001b[0m\u001b[0;34m\u001b[0m\u001b[0m\n\u001b[0m\u001b[1;32m      3\u001b[0m \u001b[0mheat_map\u001b[0m\u001b[0;34m.\u001b[0m\u001b[0mset\u001b[0m\u001b[0;34m(\u001b[0m\u001b[0mylabel\u001b[0m\u001b[0;34m=\u001b[0m\u001b[0;34m'Theta, $\\dot{\\Theta}$'\u001b[0m\u001b[0;34m,\u001b[0m \u001b[0mxlabel\u001b[0m\u001b[0;34m=\u001b[0m\u001b[0;34m'Azimutal, $\\phi$'\u001b[0m\u001b[0;34m,\u001b[0m \u001b[0mtitle\u001b[0m\u001b[0;34m=\u001b[0m\u001b[0;34m'mean patient map with recurrence'\u001b[0m\u001b[0;34m)\u001b[0m\u001b[0;34m\u001b[0m\u001b[0;34m\u001b[0m\u001b[0m\n\u001b[1;32m      4\u001b[0m \u001b[0mheat_map\u001b[0m \u001b[0;34m=\u001b[0m \u001b[0msns\u001b[0m\u001b[0;34m.\u001b[0m\u001b[0mheatmap\u001b[0m\u001b[0;34m(\u001b[0m\u001b[0msd_map1\u001b[0m\u001b[0;34m.\u001b[0m\u001b[0mvalues\u001b[0m\u001b[0;34m,\u001b[0m \u001b[0mcenter\u001b[0m\u001b[0;34m=\u001b[0m\u001b[0;36m0\u001b[0m\u001b[0;34m,\u001b[0m \u001b[0mxticklabels\u001b[0m\u001b[0;34m=\u001b[0m\u001b[0maxes\u001b[0m\u001b[0;34m[\u001b[0m\u001b[0;36m0\u001b[0m\u001b[0;34m]\u001b[0m\u001b[0;34m,\u001b[0m \u001b[0mvmax\u001b[0m\u001b[0;34m=\u001b[0m\u001b[0;36m1\u001b[0m\u001b[0;34m,\u001b[0m \u001b[0myticklabels\u001b[0m\u001b[0;34m=\u001b[0m\u001b[0maxes\u001b[0m\u001b[0;34m[\u001b[0m\u001b[0;36m1\u001b[0m\u001b[0;34m]\u001b[0m\u001b[0;34m,\u001b[0m \u001b[0mcmap\u001b[0m\u001b[0;34m=\u001b[0m\u001b[0;34m'RdBu'\u001b[0m\u001b[0;34m,\u001b[0m \u001b[0max\u001b[0m\u001b[0;34m=\u001b[0m\u001b[0max2\u001b[0m\u001b[0;34m)\u001b[0m\u001b[0;34m\u001b[0m\u001b[0;34m\u001b[0m\u001b[0m\n\u001b[1;32m      5\u001b[0m \u001b[0mheat_map\u001b[0m\u001b[0;34m.\u001b[0m\u001b[0mset\u001b[0m\u001b[0;34m(\u001b[0m\u001b[0mylabel\u001b[0m\u001b[0;34m=\u001b[0m\u001b[0;34m'Theta, $\\dot{\\Theta}$'\u001b[0m\u001b[0;34m,\u001b[0m \u001b[0mxlabel\u001b[0m\u001b[0;34m=\u001b[0m\u001b[0;34m'Azimutal, $\\phi$'\u001b[0m\u001b[0;34m,\u001b[0m \u001b[0mtitle\u001b[0m\u001b[0;34m=\u001b[0m\u001b[0;34m'std patient map with recurrence'\u001b[0m\u001b[0;34m)\u001b[0m\u001b[0;34m\u001b[0m\u001b[0;34m\u001b[0m\u001b[0m\n",
      "\u001b[0;31mNameError\u001b[0m: name 'mean_map1' is not defined"
     ],
     "output_type": "error"
    },
    {
     "data": {
      "text/plain": [
       "<Figure size 648x648 with 6 Axes>"
      ]
     },
     "metadata": {
      "needs_background": "light"
     },
     "output_type": "display_data"
    }
   ],
   "source": [
    "f, ((ax1, ax2), (ax3, ax4), (ax5, ax6)) = plt.subplots(3, 2, figsize=(9,9), sharex='col', sharey='row')\n",
    "heat_map = sns.heatmap(mean_map1.values, center=0, xticklabels=axes[0], yticklabels=axes[1], cmap='RdBu', ax=ax1)\n",
    "heat_map.set(ylabel='Theta, $\\dot{\\Theta}$', xlabel='Azimutal, $\\phi$', title='mean patient map with recurrence')\n",
    "heat_map = sns.heatmap(sd_map1.values, center=0, xticklabels=axes[0], vmax=1, yticklabels=axes[1], cmap='RdBu', ax=ax2)\n",
    "heat_map.set(ylabel='Theta, $\\dot{\\Theta}$', xlabel='Azimutal, $\\phi$', title='std patient map with recurrence')\n",
    "\n",
    "heat_map = sns.heatmap(mean_map2.values, center=0, xticklabels=axes[0], yticklabels=axes[1], cmap='RdBu', ax=ax3)\n",
    "heat_map.set(ylabel='Theta, $\\dot{\\Theta}$', xlabel='Azimutal, $\\phi$', title='mean patient map without recurrence')\n",
    "heat_map = sns.heatmap(sd_map2.values, center=0, xticklabels=axes[0], vmax=1, yticklabels=axes[1], cmap='RdBu', ax=ax4)\n",
    "heat_map.set(ylabel='Theta, $\\dot{\\Theta}$', xlabel='Azimutal, $\\phi$', title='std patient map without recurrence')\n",
    "\n",
    "heat_map = sns.heatmap((mean_map1-mean_map2).values, center=0, xticklabels=axes[0], yticklabels=axes[1], cmap='RdBu', ax=ax5)\n",
    "heat_map.set(ylabel='Theta, $\\dot{\\Theta}$', xlabel='Azimutal, $\\phi$', title='mean difference patient map')\n",
    "heat_map = sns.heatmap(np.sqrt(var_map1+var_map2).values, center=0, vmax=1, xticklabels=axes[0], yticklabels=axes[1], cmap='RdBu', ax=ax6)\n",
    "heat_map.set(ylabel='Theta, $\\dot{\\Theta}$', xlabel='Azimutal, $\\phi$', title='std of difference patient map with recurrence')\n"
   ]
  },
  {
   "cell_type": "code",
   "execution_count": 24,
   "metadata": {},
   "outputs": [
    {
     "name": "stdout",
     "output_type": "stream",
     "text": [
      "Global positive p value: 0.0. Global negative p values: 0.241.\n"
     ]
    }
   ],
   "source": [
    "print(\"Global positive p value: %s. Global negative p values: %s.\" % (global_pos_pvalue, global_neg_pvalue))"
   ]
  },
  {
   "cell_type": "code",
   "execution_count": 48,
   "metadata": {},
   "outputs": [
    {
     "data": {
      "text/plain": [
       "<Figure size 432x288 with 2 Axes>"
      ]
     },
     "metadata": {
      "needs_background": "light"
     },
     "output_type": "display_data"
    }
   ],
   "source": [
    "# Contour significant regions of t map\n",
    "test_superimpose(t_value_map[0],pos_tthresh,neg_tthresh)"
   ]
  },
  {
   "cell_type": "code",
   "execution_count": 34,
   "metadata": {},
   "outputs": [],
   "source": [
    "# Non-parametric testing\n",
    "from significance_test import mann_whitney_test_statistic\n",
    "U_test_map, p_value_map = mann_whitney_test_statistic(merged_patient_data)\n",
    "critical_statistic_values = np.percentile(p_value_map.flatten(), [5, 95])"
   ]
  },
  {
   "cell_type": "code",
   "execution_count": 49,
   "metadata": {},
   "outputs": [
    {
     "data": {
      "text/plain": [
       "<Figure size 648x288 with 4 Axes>"
      ]
     },
     "metadata": {
      "needs_background": "light"
     },
     "output_type": "display_data"
    }
   ],
   "source": [
    "f, (ax1, ax2) = plt.subplots(1, 2, figsize=(9,4), sharex='col', sharey='row')\n",
    "\n",
    "ax1.contour(p_value_map, levels=critical_statistic_values, colors=['magenta', 'lime'])\n",
    "plt.gca()\n",
    "heat_map = sns.heatmap(U_test_map, center=0, xticklabels=axes[0], yticklabels=axes[1], cmap='RdBu', ax=ax1)\n",
    "heat_map.set(ylabel='Theta, $\\dot{\\Theta}$', xlabel='Azimutal, $\\phi$', title='')\n",
    "\n",
    "ax2.contour(p_value_map, levels=critical_statistic_values, colors=['magenta', 'lime'])\n",
    "plt.gca()\n",
    "heat_map = sns.heatmap(p_value_map, center=0, xticklabels=axes[0], yticklabels=axes[1], cmap='RdBu', ax=ax2)\n",
    "heat_map.set(ylabel='Theta, $\\dot{\\Theta}$', xlabel='Azimutal, $\\phi$', title='')\n",
    "\n",
    "# f.subplots_adjust(wspace=0.2)\n",
    "plt.tight_layout()\n",
    "\n",
    "plt.show()"
   ]
  },
  {
   "cell_type": "code",
   "execution_count": 50,
   "metadata": {},
   "outputs": [],
   "source": [
    "age_cox = pd.read_csv(r'/Users/Tom/PycharmProjects/Contour-Analysis/Data/Deep_learning_results/test_results/age.csv')\n",
    "fraction_cox = pd.read_csv(r'/Users/Tom/PycharmProjects/Contour-Analysis/Data/Deep_learning_results/test_results/fractions.csv')\n",
    "riskLH_cox = pd.read_csv(r'/Users/Tom/PycharmProjects/Contour-Analysis/Data/Deep_learning_results/test_results/riskLowHigh.csv')\n",
    "riskLI_cox = pd.read_csv(r'/Users/Tom/PycharmProjects/Contour-Analysis/Data/Deep_learning_results/test_results/riskLowInt.csv')\n",
    "vol_cox = pd.read_csv(r'/Users/Tom/PycharmProjects/Contour-Analysis/Data/Deep_learning_results/test_results/autoVolume.csv')"
   ]
  },
  {
   "cell_type": "code",
   "execution_count": 39,
   "metadata": {},
   "outputs": [
    {
     "name": "stderr",
     "output_type": "stream",
     "text": [
      "/Users/Tom/anaconda3/lib/python3.7/site-packages/matplotlib/contour.py:1243: UserWarning: No contour levels were found within the data range.\n",
      "  warnings.warn(\"No contour levels were found\"\n",
      "/Users/Tom/anaconda3/lib/python3.7/site-packages/matplotlib/contour.py:1243: UserWarning: No contour levels were found within the data range.\n",
      "  warnings.warn(\"No contour levels were found\"\n",
      "/Users/Tom/anaconda3/lib/python3.7/site-packages/matplotlib/contour.py:1243: UserWarning: No contour levels were found within the data range.\n",
      "  warnings.warn(\"No contour levels were found\"\n"
     ]
    },
    {
     "ename": "NameError",
     "evalue": "name 'risk_cox' is not defined",
     "traceback": [
      "\u001b[0;31m---------------------------------------------------------------------------\u001b[0m",
      "\u001b[0;31mNameError\u001b[0m                                 Traceback (most recent call last)",
      "\u001b[0;32m<ipython-input-39-5b144224e769>\u001b[0m in \u001b[0;36m<module>\u001b[0;34m()\u001b[0m\n\u001b[1;32m     14\u001b[0m \u001b[0max3\u001b[0m\u001b[0;34m.\u001b[0m\u001b[0mcontour\u001b[0m\u001b[0;34m(\u001b[0m\u001b[0mriskLI_cox\u001b[0m\u001b[0;34m.\u001b[0m\u001b[0mvalues\u001b[0m\u001b[0;34m,\u001b[0m \u001b[0mlevels\u001b[0m\u001b[0;34m=\u001b[0m\u001b[0;34m[\u001b[0m\u001b[0mnp\u001b[0m\u001b[0;34m.\u001b[0m\u001b[0mexp\u001b[0m\u001b[0;34m(\u001b[0m\u001b[0;34m-\u001b[0m\u001b[0;36m0.6818\u001b[0m\u001b[0;34m)\u001b[0m\u001b[0;34m,\u001b[0m \u001b[0mnp\u001b[0m\u001b[0;34m.\u001b[0m\u001b[0mexp\u001b[0m\u001b[0;34m(\u001b[0m\u001b[0;36m1.4112\u001b[0m\u001b[0;34m)\u001b[0m\u001b[0;34m]\u001b[0m\u001b[0;34m,\u001b[0m \u001b[0mcolors\u001b[0m\u001b[0;34m=\u001b[0m\u001b[0;34m[\u001b[0m\u001b[0;34m'magenta'\u001b[0m\u001b[0;34m,\u001b[0m \u001b[0;34m'lime'\u001b[0m\u001b[0;34m]\u001b[0m\u001b[0;34m)\u001b[0m\u001b[0;34m\u001b[0m\u001b[0;34m\u001b[0m\u001b[0m\n\u001b[1;32m     15\u001b[0m \u001b[0mplt\u001b[0m\u001b[0;34m.\u001b[0m\u001b[0mgca\u001b[0m\u001b[0;34m(\u001b[0m\u001b[0;34m)\u001b[0m\u001b[0;34m\u001b[0m\u001b[0;34m\u001b[0m\u001b[0m\n\u001b[0;32m---> 16\u001b[0;31m \u001b[0mheat_map3\u001b[0m \u001b[0;34m=\u001b[0m \u001b[0msns\u001b[0m\u001b[0;34m.\u001b[0m\u001b[0mheatmap\u001b[0m\u001b[0;34m(\u001b[0m\u001b[0mrisk_cox\u001b[0m\u001b[0;34m.\u001b[0m\u001b[0mvalues\u001b[0m\u001b[0;34m,\u001b[0m \u001b[0mcenter\u001b[0m\u001b[0;34m=\u001b[0m\u001b[0;36m1\u001b[0m\u001b[0;34m,\u001b[0m \u001b[0max\u001b[0m\u001b[0;34m=\u001b[0m\u001b[0max3\u001b[0m\u001b[0;34m,\u001b[0m \u001b[0mcmap\u001b[0m\u001b[0;34m=\u001b[0m\u001b[0;34m'RdBu'\u001b[0m\u001b[0;34m)\u001b[0m\u001b[0;34m\u001b[0m\u001b[0;34m\u001b[0m\u001b[0m\n\u001b[0m\u001b[1;32m     17\u001b[0m \u001b[0mheat_map3\u001b[0m\u001b[0;34m.\u001b[0m\u001b[0mset_xlabel\u001b[0m\u001b[0;34m(\u001b[0m\u001b[0;34m''\u001b[0m\u001b[0;34m)\u001b[0m\u001b[0;34m;\u001b[0m \u001b[0mheat_map3\u001b[0m\u001b[0;34m.\u001b[0m\u001b[0mset_ylabel\u001b[0m\u001b[0;34m(\u001b[0m\u001b[0;34m''\u001b[0m\u001b[0;34m)\u001b[0m\u001b[0;34m\u001b[0m\u001b[0;34m\u001b[0m\u001b[0m\n\u001b[1;32m     18\u001b[0m \u001b[0;34m\u001b[0m\u001b[0m\n",
      "\u001b[0;31mNameError\u001b[0m: name 'risk_cox' is not defined"
     ],
     "output_type": "error"
    },
    {
     "data": {
      "text/plain": [
       "<Figure size 648x288 with 6 Axes>"
      ]
     },
     "metadata": {
      "needs_background": "light"
     },
     "output_type": "display_data"
    }
   ],
   "source": [
    "f, ((ax1, ax2), (ax3, ax4)) = plt.subplots(2, 2, figsize=(9,4) ,sharex='col', sharey='row')\n",
    "\n",
    "ax1.contour(age_cox.values, colors=['magenta', 'lime'], levels=[np.exp(-1.7313), np.exp(2.3167)])\n",
    "plt.gca()\n",
    "heat_map1 = sns.heatmap(age_cox.values, center=1, ax=ax1, cmap='RdBu')\n",
    "heat_map1.set_xlabel(''); heat_map1.set_ylabel('')\n",
    "\n",
    "\n",
    "ax2.contour(fraction_cox.values, levels=[np.exp(0), np.exp(1.8463)], colors=['magenta', 'lime'])\n",
    "plt.gca()\n",
    "heat_map2 = sns.heatmap(fraction_cox.values, center=1, ax=ax2, cmap='RdBu')\n",
    "heat_map2.set_xlabel(''); heat_map2.set_ylabel('')\n",
    "\n",
    "ax3.contour(riskLI_cox.values, levels=[np.exp(-0.6818), np.exp(1.4112)], colors=['magenta', 'lime'])\n",
    "plt.gca()\n",
    "heat_map3 = sns.heatmap(risk_cox.values, center=1, ax=ax3, cmap='RdBu')\n",
    "heat_map3.set_xlabel(''); heat_map3.set_ylabel('')\n",
    "\n",
    "ax4.contour(vol_cox.values, levels=[np.exp(-0.0131), np.exp(0.0926)], colors=['magenta', 'lime'])\n",
    "plt.gca()\n",
    "heat_map4 = sns.heatmap(vol_cox.values, center=1, ax=ax4, cmap='RdBu')\n",
    "heat_map4.set_xlabel(''); heat_map4.set_ylabel('')\n",
    "\n",
    "plt.tight_layout()\n",
    "plt.show()\n"
   ]
  },
  {
   "cell_type": "code",
   "execution_count": null,
   "metadata": {},
   "outputs": [],
   "source": [
    "age_cox = pd.read_csv(r'/Users/Tom/PycharmProjects/Contour-Analysis/Data/Deep_learning_results/csv_results_sig/age.csv')\n",
    "fraction_cox = pd.read_csv(r'/Users/Tom/PycharmProjects/Contour-Analysis/Data/Deep_learning_results/csv_results_sig/fractions.csv')\n",
    "riskLH_cox = pd.read_csv(r'/Users/Tom/PycharmProjects/Contour-Analysis/Data/Deep_learning_results/csv_results_sig/riskLowHigh.csv')\n",
    "riskLI_cox = pd.read_csv(r'/Users/Tom/PycharmProjects/Contour-Analysis/Data/Deep_learning_results/csv_results_sig/riskLowInt.csv')\n",
    "vol_cox = pd.read_csv(r'/Users/Tom/PycharmProjects/Contour-Analysis/Data/Deep_learning_results/csv_results_sig/autoVolume.csv')\n"
   ]
  },
  {
   "cell_type": "code",
   "execution_count": 54,
   "metadata": {},
   "outputs": [
    {
     "name": "stderr",
     "output_type": "stream",
     "text": [
      "/Users/Tom/anaconda3/lib/python3.7/site-packages/numpy/lib/function_base.py:3826: RuntimeWarning: Invalid value encountered in percentile\n",
      "  interpolation=interpolation)\n",
      "/Users/Tom/anaconda3/lib/python3.7/site-packages/matplotlib/contour.py:1243: UserWarning: No contour levels were found within the data range.\n",
      "  warnings.warn(\"No contour levels were found\"\n"
     ]
    },
    {
     "data": {
      "text/plain": [
       "<Figure size 432x288 with 2 Axes>"
      ]
     },
     "metadata": {
      "needs_background": "light"
     },
     "output_type": "display_data"
    },
    {
     "data": {
      "text/plain": [
       "<Figure size 432x288 with 2 Axes>"
      ]
     },
     "metadata": {
      "needs_background": "light"
     },
     "output_type": "display_data"
    },
    {
     "data": {
      "text/plain": [
       "<Figure size 432x288 with 2 Axes>"
      ]
     },
     "metadata": {
      "needs_background": "light"
     },
     "output_type": "display_data"
    },
    {
     "data": {
      "text/plain": [
       "<Figure size 432x288 with 2 Axes>"
      ]
     },
     "metadata": {
      "needs_background": "light"
     },
     "output_type": "display_data"
    },
    {
     "data": {
      "text/plain": [
       "<Figure size 432x288 with 2 Axes>"
      ]
     },
     "metadata": {
      "needs_background": "light"
     },
     "output_type": "display_data"
    }
   ],
   "source": [
    "from significance_test import map_with_thresholds\n",
    "\n",
    "map_with_thresholds(age_cox.values, name=\"age_cox_map\")\n",
    "map_with_thresholds(fraction_cox.values, name=\"frac_cox_map\")\n",
    "map_with_thresholds(riskLH_cox.values, name=\"riskLH_cox_map\")\n",
    "map_with_thresholds(riskLI_cox.values, name=\"riskLI_cox_map\")\n",
    "map_with_thresholds(vol_cox.values, name=\"voldiff_cox_map\")"
   ]
  },
  {
   "cell_type": "code",
   "execution_count": 55,
   "metadata": {},
   "outputs": [],
   "source": [
    "from astropy.coordinates import spherical_to_cartesian\n",
    "# patient map\n",
    "map = pd.read_csv(r'/Users/Tom/PycharmProjects/Contour-Analysis/Data/Deep_learning_results/AutoMaps/196703818.csv').values"
   ]
  },
  {
   "cell_type": "code",
   "execution_count": 56,
   "metadata": {},
   "outputs": [
    {
     "data": {
      "text/plain": [
       "(59, 120)"
      ]
     },
     "execution_count": 56,
     "metadata": {},
     "output_type": "execute_result"
    }
   ],
   "source": [
    "map.shape"
   ]
  },
  {
   "cell_type": "code",
   "execution_count": 57,
   "metadata": {},
   "outputs": [],
   "source": [
    "# Returns spherical map to cartesian elements\n",
    "def map_to_cart(spherical_map):\n",
    "    m = []\n",
    "    for i in range(59):\n",
    "        # print(-90 + (i*3))\n",
    "        for j in range(120):\n",
    "            # m.append([i*j,i,j])\n",
    "            x,y,z = spherical_to_cartesian(spherical_map[i][j],np.radians(-90 + (i*3)),np.radians(j*3))\n",
    "            # map_xy.append([x,y,z])\n",
    "            m.append([x,y,z])\n",
    "    return np.array(m)\n"
   ]
  },
  {
   "cell_type": "code",
   "execution_count": 58,
   "metadata": {},
   "outputs": [],
   "source": [
    "num_array = map_to_cart(map)"
   ]
  },
  {
   "cell_type": "code",
   "execution_count": 59,
   "metadata": {},
   "outputs": [
    {
     "data": {
      "text/plain": [
       "array([ 1.30314703e-16,  1.36966272e-17, -2.13992333e+00])"
      ]
     },
     "execution_count": 59,
     "metadata": {},
     "output_type": "execute_result"
    }
   ],
   "source": [
    "num_array.shape\n",
    "num_array[:][2]"
   ]
  },
  {
   "cell_type": "code",
   "execution_count": 60,
   "metadata": {},
   "outputs": [
    {
     "data": {
      "text/plain": [
       "(59, 120, 3)"
      ]
     },
     "execution_count": 60,
     "metadata": {},
     "output_type": "execute_result"
    }
   ],
   "source": [
    "new_shape = num_array.reshape(59,120,3)\n",
    "new_shape.shape"
   ]
  },
  {
   "cell_type": "code",
   "execution_count": 61,
   "metadata": {},
   "outputs": [
    {
     "data": {
      "text/plain": [
       "(7080,)"
      ]
     },
     "execution_count": 61,
     "metadata": {},
     "output_type": "execute_result"
    }
   ],
   "source": [
    "num_array[:,0].shape"
   ]
  },
  {
   "cell_type": "code",
   "execution_count": 62,
   "metadata": {},
   "outputs": [],
   "source": [
    "%matplotlib inline\n",
    "from mpl_toolkits.mplot3d import Axes3D"
   ]
  },
  {
   "cell_type": "code",
   "execution_count": 63,
   "metadata": {},
   "outputs": [
    {
     "data": {
      "text/plain": [
       "<Figure size 720x720 with 1 Axes>"
      ]
     },
     "metadata": {
      "needs_background": "light"
     },
     "output_type": "display_data"
    }
   ],
   "source": [
    "fig = plt.figure(figsize=(10,10))\n",
    "ax = fig.gca(projection='3d')\n",
    "ax.plot(num_array[:,0], num_array[:,1], num_array[:,2])\n",
    "plt.savefig(\"/Users/Tom/Desktop/Mphy_Report/Figures/prostate_map.pdf\", bbox_inches=\"tight\")\n",
    "plt.show()"
   ]
  },
  {
   "cell_type": "code",
   "execution_count": 64,
   "metadata": {
    "scrolled": true
   },
   "outputs": [
    {
     "data": {
      "text/plain": [
       "<Figure size 720x720 with 1 Axes>"
      ]
     },
     "metadata": {
      "needs_background": "light"
     },
     "output_type": "display_data"
    }
   ],
   "source": [
    "t = map_to_cart(t_value_map[0])\n",
    "fig = plt.figure(figsize=(10,10))\n",
    "ax = fig.gca(projection='3d')\n",
    "ax.plot(t[:,0], t[:,1], t[:,2])\n",
    "plt.savefig(\"/Users/Tom/Desktop/Mphy_Report/Figures/prostate_map_diff.pdf\", bbox_inches=\"tight\")\n",
    "plt.show()"
   ]
  },
  {
   "cell_type": "code",
   "execution_count": null,
   "metadata": {},
   "outputs": [],
   "source": []
  }
 ],
 "metadata": {
  "kernelspec": {
   "display_name": "Python 3",
   "language": "python",
   "name": "python3"
  },
  "language_info": {
   "codemirror_mode": {
    "name": "ipython",
    "version": 3
   },
   "file_extension": ".py",
   "mimetype": "text/x-python",
   "name": "python",
   "nbconvert_exporter": "python",
   "pygments_lexer": "ipython3",
   "version": "3.7.2"
  }
 },
 "nbformat": 4,
 "nbformat_minor": 2
}
